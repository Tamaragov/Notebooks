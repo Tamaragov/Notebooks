{
    "cells": [
        {
            "cell_type": "markdown",
            "metadata": {},
            "source": "testing data upload"
        },
        {
            "cell_type": "code",
            "execution_count": 1,
            "metadata": {},
            "outputs": [
                {
                    "data": {
                        "text/html": "<div>\n<style scoped>\n    .dataframe tbody tr th:only-of-type {\n        vertical-align: middle;\n    }\n\n    .dataframe tbody tr th {\n        vertical-align: top;\n    }\n\n    .dataframe thead th {\n        text-align: right;\n    }\n</style>\n<table border=\"1\" class=\"dataframe\">\n  <thead>\n    <tr style=\"text-align: right;\">\n      <th></th>\n      <th>Date</th>\n      <th>Average</th>\n    </tr>\n  </thead>\n  <tbody>\n    <tr>\n      <th>0</th>\n      <td>01:00 01/01/2004</td>\n      <td>22.936917</td>\n    </tr>\n    <tr>\n      <th>1</th>\n      <td>01:00 02/01/2004</td>\n      <td>20.006542</td>\n    </tr>\n    <tr>\n      <th>2</th>\n      <td>01:00 03/01/2004</td>\n      <td>26.546682</td>\n    </tr>\n    <tr>\n      <th>3</th>\n      <td>01:00 04/01/2004</td>\n      <td>13.032583</td>\n    </tr>\n    <tr>\n      <th>4</th>\n      <td>01:00 05/01/2004</td>\n      <td>21.251739</td>\n    </tr>\n  </tbody>\n</table>\n</div>",
                        "text/plain": "               Date    Average\n0  01:00 01/01/2004  22.936917\n1  01:00 02/01/2004  20.006542\n2  01:00 03/01/2004  26.546682\n3  01:00 04/01/2004  13.032583\n4  01:00 05/01/2004  21.251739"
                    },
                    "execution_count": 1,
                    "metadata": {},
                    "output_type": "execute_result"
                }
            ],
            "source": "# The code was removed by Watson Studio for sharing."
        },
        {
            "cell_type": "code",
            "execution_count": null,
            "metadata": {},
            "outputs": [],
            "source": ""
        }
    ],
    "metadata": {
        "kernelspec": {
            "display_name": "Python 3.8",
            "language": "python",
            "name": "python3"
        },
        "language_info": {
            "codemirror_mode": {
                "name": "ipython",
                "version": 3
            },
            "file_extension": ".py",
            "mimetype": "text/x-python",
            "name": "python",
            "nbconvert_exporter": "python",
            "pygments_lexer": "ipython3",
            "version": "3.8.12"
        }
    },
    "nbformat": 4,
    "nbformat_minor": 1
}